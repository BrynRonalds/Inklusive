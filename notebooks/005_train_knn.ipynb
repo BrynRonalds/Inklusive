{
 "cells": [
  {
   "cell_type": "markdown",
   "metadata": {},
   "source": [
    "### Train the knn\n",
    "Try varying values of 'k'"
   ]
  },
  {
   "cell_type": "code",
   "execution_count": 1,
   "metadata": {},
   "outputs": [],
   "source": [
    "import os\n",
    "from pickle import dump, load\n",
    "from sklearn.neighbors import NearestNeighbors"
   ]
  },
  {
   "cell_type": "code",
   "execution_count": 2,
   "metadata": {},
   "outputs": [],
   "source": [
    "# Make paths\n",
    "proj_dir = '/Users/brynronalds/Insight/proj_dir/'\n",
    "clean_dir = os.path.join(proj_dir,'data/cleaned')\n",
    "\n",
    "preds = os.path.join(clean_dir,\"E_train_flatten.pkl\")\n",
    "E_train_flatten = load(open(preds, \"rb\"))"
   ]
  },
  {
   "cell_type": "code",
   "execution_count": 3,
   "metadata": {},
   "outputs": [],
   "source": [
    "# Fit kNN model on training images\n",
    "for k in range(16,20):\n",
    "    knn = NearestNeighbors(n_neighbors=k, metric=\"cosine\")\n",
    "    knn.fit(E_train_flatten)\n",
    "    filename = os.path.join(proj_dir,'models/finalized_knn' + str(k) + '_model.sav')\n",
    "    dump(knn, open(filename, 'wb'))"
   ]
  },
  {
   "cell_type": "code",
   "execution_count": null,
   "metadata": {},
   "outputs": [],
   "source": []
  }
 ],
 "metadata": {
  "kernelspec": {
   "display_name": "Python 3",
   "language": "python",
   "name": "python3"
  },
  "language_info": {
   "codemirror_mode": {
    "name": "ipython",
    "version": 3
   },
   "file_extension": ".py",
   "mimetype": "text/x-python",
   "name": "python",
   "nbconvert_exporter": "python",
   "pygments_lexer": "ipython3",
   "version": "3.7.6"
  }
 },
 "nbformat": 4,
 "nbformat_minor": 4
}
