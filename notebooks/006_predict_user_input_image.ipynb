{
 "cells": [
  {
   "cell_type": "markdown",
   "metadata": {},
   "source": [
    "### Using the E_train predictions, apply model to input images"
   ]
  },
  {
   "cell_type": "code",
   "execution_count": 1,
   "metadata": {},
   "outputs": [],
   "source": [
    "import os\n",
    "import numpy as np\n",
    "import pandas as pd\n",
    "import tensorflow as tf\n",
    "from sklearn.neighbors import NearestNeighbors\n",
    "import skimage.io\n",
    "from src.CV_transform_utils import resize_img, normalize_img\n",
    "from src.plot_funcs import plot_query_retrieval\n",
    "from pickle import dump, load"
   ]
  },
  {
   "cell_type": "code",
   "execution_count": 2,
   "metadata": {},
   "outputs": [],
   "source": [
    "datadir = '/Users/brynronalds/Insight/proj_dir/data/'\n",
    "modeldir = '/Users/brynronalds/Insight/proj_dir/models/'\n",
    "\n",
    "filen = os.path.join(datadir,\"cleaned/train_filenames.pkl\")\n",
    "train_filenames = load(open(filen, \"rb\"))\n",
    "\n",
    "imgfilen = os.path.join(datadir,\"cleaned/train_images.pkl\")\n",
    "train_images = load(open(imgfilen, \"rb\"))\n",
    "\n",
    "img_test_path = os.path.join(datadir,'processed/Inklusive_database/test/butterfly.jpg')\n",
    "test_image = skimage.io.imread(img_test_path, as_gray=False)\n",
    "\n",
    "dfn = os.path.join(datadir,'processed/Inklusive_database/train/tattoo_info.csv')\n",
    "tattoo_df = pd.read_csv(dfn)"
   ]
  },
  {
   "cell_type": "code",
   "execution_count": 3,
   "metadata": {},
   "outputs": [],
   "source": [
    "# Load pre-trained VGG19 model + higher level layers\n",
    "IMG_SIZE = 256\n",
    "shape_img = (IMG_SIZE, IMG_SIZE, 3)\n",
    "model = tf.keras.applications.VGG19(weights='imagenet', include_top=False,\n",
    "                                        input_shape=shape_img)\n",
    "output_shape_model = tuple([int(x) for x in model.output.shape[1:]])"
   ]
  },
  {
   "cell_type": "code",
   "execution_count": 4,
   "metadata": {},
   "outputs": [],
   "source": [
    "img_transformed = resize_img(test_image,shape_img)\n",
    "img_transformed = normalize_img(img_transformed)\n",
    "X_test = np.array(img_transformed).reshape((-1,) + shape_img)"
   ]
  },
  {
   "cell_type": "code",
   "execution_count": 5,
   "metadata": {},
   "outputs": [],
   "source": [
    "# Create embeddings using model\n",
    "E_test = model.predict(X_test)\n",
    "E_test_flatten = E_test.reshape((-1, np.prod(output_shape_model)))\n",
    "\n",
    "del model, img_transformed, X_test"
   ]
  },
  {
   "cell_type": "code",
   "execution_count": 6,
   "metadata": {},
   "outputs": [],
   "source": [
    "# Load the trained knn model (k=5), apply to test image: \n",
    "k = '10'\n",
    "filename = os.path.join(modeldir,'finalized_knn' + k +'_model.sav')\n",
    "knn = load(open(filename, 'rb'))\n",
    "for i, emb_flatten in enumerate(E_test_flatten):\n",
    "    _, indices = knn.kneighbors([emb_flatten]) # find k nearest train neighbours\n",
    "    imgs_retrieval = [train_images[idx] for idx in indices.flatten()] \n",
    "    imgs_path_retrieval = [train_filenames[idx] for idx in indices.flatten()] "
   ]
  },
  {
   "cell_type": "code",
   "execution_count": 7,
   "metadata": {},
   "outputs": [],
   "source": [
    "# Need the artist/studio info from the dataframe\n",
    "artist = []\n",
    "studio = []\n",
    "for fpath in imgs_path_retrieval:\n",
    "    _, filen = os.path.split(fpath)\n",
    "    sl_df = tattoo_df[tattoo_df['filename'] == filen]\n",
    "    artist.append(sl_df.tail(1)['artist handle'].values[0])\n",
    "    studio.append(sl_df.tail(1)['studio name'].values[0])\n",
    "    "
   ]
  },
  {
   "cell_type": "code",
   "execution_count": 8,
   "metadata": {},
   "outputs": [
    {
     "name": "stdout",
     "output_type": "stream",
     "text": [
      "5\n"
     ]
    }
   ],
   "source": [
    "result_images = (imgs_retrieval, artist, studio)\n",
    "outname = 'k' + k +'_similartats_for_butterfly.png'\n",
    "plot_query_retrieval(result_images, outname)"
   ]
  },
  {
   "cell_type": "code",
   "execution_count": null,
   "metadata": {},
   "outputs": [],
   "source": []
  }
 ],
 "metadata": {
  "kernelspec": {
   "display_name": "Python 3",
   "language": "python",
   "name": "python3"
  },
  "language_info": {
   "codemirror_mode": {
    "name": "ipython",
    "version": 3
   },
   "file_extension": ".py",
   "mimetype": "text/x-python",
   "name": "python",
   "nbconvert_exporter": "python",
   "pygments_lexer": "ipython3",
   "version": "3.7.6"
  }
 },
 "nbformat": 4,
 "nbformat_minor": 4
}
