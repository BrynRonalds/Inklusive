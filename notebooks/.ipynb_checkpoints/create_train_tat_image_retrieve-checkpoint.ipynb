{
 "cells": [
  {
   "cell_type": "markdown",
   "metadata": {},
   "source": [
    "### Load the images for image retrieval training"
   ]
  },
  {
   "cell_type": "code",
   "execution_count": 10,
   "metadata": {},
   "outputs": [],
   "source": [
    "import pandas as pd\n",
    "import shutil, os"
   ]
  },
  {
   "cell_type": "code",
   "execution_count": 11,
   "metadata": {},
   "outputs": [
    {
     "name": "stdout",
     "output_type": "stream",
     "text": [
      "Index(['Unnamed: 0', 'filename', 'artist handle', 'studio handle',\n",
      "       'studio name', 'prediction', 'is_tat'],\n",
      "      dtype='object')\n"
     ]
    }
   ],
   "source": [
    "DATADIR = '/Users/brynronalds/Insight/directory/data/raw/'\n",
    "RUNDIR = '/Users/brynronalds/Insight/ImageSim/image_retrieval/data/train/'\n",
    "tattoo_df = pd.read_csv(os.path.join(DATADIR,'tattoo_images.csv'))\n",
    "col_names = tattoo_df.columns\n",
    "print(col_names)"
   ]
  },
  {
   "cell_type": "code",
   "execution_count": 12,
   "metadata": {},
   "outputs": [],
   "source": [
    "# if unnamed column appears again run the following:\n",
    "tattoo_df = tattoo_df.drop([col_names[0]], axis=1)"
   ]
  },
  {
   "cell_type": "code",
   "execution_count": 13,
   "metadata": {},
   "outputs": [
    {
     "name": "stdout",
     "output_type": "stream",
     "text": [
      "Index(['filename', 'artist handle', 'studio handle', 'studio name',\n",
      "       'prediction', 'is_tat'],\n",
      "      dtype='object')\n"
     ]
    },
    {
     "data": {
      "text/html": [
       "<div>\n",
       "<style scoped>\n",
       "    .dataframe tbody tr th:only-of-type {\n",
       "        vertical-align: middle;\n",
       "    }\n",
       "\n",
       "    .dataframe tbody tr th {\n",
       "        vertical-align: top;\n",
       "    }\n",
       "\n",
       "    .dataframe thead th {\n",
       "        text-align: right;\n",
       "    }\n",
       "</style>\n",
       "<table border=\"1\" class=\"dataframe\">\n",
       "  <thead>\n",
       "    <tr style=\"text-align: right;\">\n",
       "      <th></th>\n",
       "      <th>filename</th>\n",
       "      <th>artist handle</th>\n",
       "      <th>studio handle</th>\n",
       "      <th>studio name</th>\n",
       "      <th>prediction</th>\n",
       "      <th>is_tat</th>\n",
       "    </tr>\n",
       "  </thead>\n",
       "  <tbody>\n",
       "    <tr>\n",
       "      <th>0</th>\n",
       "      <td>studioartease/2020-05-02_13-53-39_UTC.jpg</td>\n",
       "      <td>gettattooedbymae</td>\n",
       "      <td>studioartease</td>\n",
       "      <td>Studio Artease</td>\n",
       "      <td>0.069279</td>\n",
       "      <td>1</td>\n",
       "    </tr>\n",
       "    <tr>\n",
       "      <th>1</th>\n",
       "      <td>studioartease/2020-04-24_12-52-25_UTC.jpg</td>\n",
       "      <td>tattoosbyrian</td>\n",
       "      <td>studioartease</td>\n",
       "      <td>Studio Artease</td>\n",
       "      <td>0.998512</td>\n",
       "      <td>1</td>\n",
       "    </tr>\n",
       "    <tr>\n",
       "      <th>2</th>\n",
       "      <td>studioartease/2020-04-17_23-41-00_UTC.jpg</td>\n",
       "      <td>magdalena.mardini</td>\n",
       "      <td>studioartease</td>\n",
       "      <td>Studio Artease</td>\n",
       "      <td>0.999967</td>\n",
       "      <td>1</td>\n",
       "    </tr>\n",
       "    <tr>\n",
       "      <th>3</th>\n",
       "      <td>studioartease/2020-04-09_16-06-58_UTC.jpg</td>\n",
       "      <td>tattoosbyrian</td>\n",
       "      <td>studioartease</td>\n",
       "      <td>Studio Artease</td>\n",
       "      <td>0.009889</td>\n",
       "      <td>1</td>\n",
       "    </tr>\n",
       "    <tr>\n",
       "      <th>4</th>\n",
       "      <td>studioartease/2020-03-29_15-34-08_UTC.jpg</td>\n",
       "      <td>gettattooedbymae</td>\n",
       "      <td>studioartease</td>\n",
       "      <td>Studio Artease</td>\n",
       "      <td>0.665399</td>\n",
       "      <td>1</td>\n",
       "    </tr>\n",
       "    <tr>\n",
       "      <th>...</th>\n",
       "      <td>...</td>\n",
       "      <td>...</td>\n",
       "      <td>...</td>\n",
       "      <td>...</td>\n",
       "      <td>...</td>\n",
       "      <td>...</td>\n",
       "    </tr>\n",
       "    <tr>\n",
       "      <th>4481</th>\n",
       "      <td>sgtattoondg/2013-08-24_03-47-51_UTC.jpg</td>\n",
       "      <td>alexkeh</td>\n",
       "      <td>sgtattoondg</td>\n",
       "      <td>Saving Grace Tattoo</td>\n",
       "      <td>0.897660</td>\n",
       "      <td>1</td>\n",
       "    </tr>\n",
       "    <tr>\n",
       "      <th>4482</th>\n",
       "      <td>sgtattoondg/2013-08-24_03-46-29_UTC.jpg</td>\n",
       "      <td>alexkeh</td>\n",
       "      <td>sgtattoondg</td>\n",
       "      <td>Saving Grace Tattoo</td>\n",
       "      <td>0.101867</td>\n",
       "      <td>1</td>\n",
       "    </tr>\n",
       "    <tr>\n",
       "      <th>4483</th>\n",
       "      <td>sgtattoondg/2013-08-24_03-46-03_UTC.jpg</td>\n",
       "      <td>alexkeh</td>\n",
       "      <td>sgtattoondg</td>\n",
       "      <td>Saving Grace Tattoo</td>\n",
       "      <td>0.001041</td>\n",
       "      <td>1</td>\n",
       "    </tr>\n",
       "    <tr>\n",
       "      <th>4484</th>\n",
       "      <td>sgtattoondg/2013-08-24_03-45-22_UTC.jpg</td>\n",
       "      <td>alexkeh</td>\n",
       "      <td>sgtattoondg</td>\n",
       "      <td>Saving Grace Tattoo</td>\n",
       "      <td>0.972710</td>\n",
       "      <td>1</td>\n",
       "    </tr>\n",
       "    <tr>\n",
       "      <th>4485</th>\n",
       "      <td>sgtattoondg/2013-08-24_03-01-55_UTC.jpg</td>\n",
       "      <td>alexkeh</td>\n",
       "      <td>sgtattoondg</td>\n",
       "      <td>Saving Grace Tattoo</td>\n",
       "      <td>0.995721</td>\n",
       "      <td>1</td>\n",
       "    </tr>\n",
       "  </tbody>\n",
       "</table>\n",
       "<p>4486 rows × 6 columns</p>\n",
       "</div>"
      ],
      "text/plain": [
       "                                       filename      artist handle  \\\n",
       "0     studioartease/2020-05-02_13-53-39_UTC.jpg   gettattooedbymae   \n",
       "1     studioartease/2020-04-24_12-52-25_UTC.jpg      tattoosbyrian   \n",
       "2     studioartease/2020-04-17_23-41-00_UTC.jpg  magdalena.mardini   \n",
       "3     studioartease/2020-04-09_16-06-58_UTC.jpg      tattoosbyrian   \n",
       "4     studioartease/2020-03-29_15-34-08_UTC.jpg   gettattooedbymae   \n",
       "...                                         ...                ...   \n",
       "4481    sgtattoondg/2013-08-24_03-47-51_UTC.jpg            alexkeh   \n",
       "4482    sgtattoondg/2013-08-24_03-46-29_UTC.jpg            alexkeh   \n",
       "4483    sgtattoondg/2013-08-24_03-46-03_UTC.jpg            alexkeh   \n",
       "4484    sgtattoondg/2013-08-24_03-45-22_UTC.jpg            alexkeh   \n",
       "4485    sgtattoondg/2013-08-24_03-01-55_UTC.jpg            alexkeh   \n",
       "\n",
       "      studio handle          studio name  prediction  is_tat  \n",
       "0     studioartease       Studio Artease    0.069279       1  \n",
       "1     studioartease       Studio Artease    0.998512       1  \n",
       "2     studioartease       Studio Artease    0.999967       1  \n",
       "3     studioartease       Studio Artease    0.009889       1  \n",
       "4     studioartease       Studio Artease    0.665399       1  \n",
       "...             ...                  ...         ...     ...  \n",
       "4481    sgtattoondg  Saving Grace Tattoo    0.897660       1  \n",
       "4482    sgtattoondg  Saving Grace Tattoo    0.101867       1  \n",
       "4483    sgtattoondg  Saving Grace Tattoo    0.001041       1  \n",
       "4484    sgtattoondg  Saving Grace Tattoo    0.972710       1  \n",
       "4485    sgtattoondg  Saving Grace Tattoo    0.995721       1  \n",
       "\n",
       "[4486 rows x 6 columns]"
      ]
     },
     "execution_count": 13,
     "metadata": {},
     "output_type": "execute_result"
    }
   ],
   "source": [
    "col_names = tattoo_df.columns\n",
    "print(col_names)\n",
    "tattoo_df"
   ]
  },
  {
   "cell_type": "code",
   "execution_count": 14,
   "metadata": {},
   "outputs": [],
   "source": [
    "for index in tattoo_df.index:\n",
    "    img_name = tattoo_df.loc[index,'filename']\n",
    "    filen = os.path.join(DATADIR,img_name)\n",
    "    shutil.copy(filen,RUNDIR)"
   ]
  },
  {
   "cell_type": "code",
   "execution_count": null,
   "metadata": {},
   "outputs": [],
   "source": []
  }
 ],
 "metadata": {
  "kernelspec": {
   "display_name": "Python 3",
   "language": "python",
   "name": "python3"
  },
  "language_info": {
   "codemirror_mode": {
    "name": "ipython",
    "version": 3
   },
   "file_extension": ".py",
   "mimetype": "text/x-python",
   "name": "python",
   "nbconvert_exporter": "python",
   "pygments_lexer": "ipython3",
   "version": "3.7.6"
  }
 },
 "nbformat": 4,
 "nbformat_minor": 4
}
