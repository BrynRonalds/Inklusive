{
 "cells": [
  {
   "cell_type": "markdown",
   "metadata": {},
   "source": [
    "## Using instaloader\n",
    "Download posts from each studio, get artist name from caption_mentions"
   ]
  },
  {
   "cell_type": "code",
   "execution_count": 1,
   "metadata": {},
   "outputs": [],
   "source": [
    "import instaloader\n",
    "from instaloader import Instaloader, Profile\n",
    "from itertools import islice\n",
    "import pandas as pd\n",
    "import shutil, os"
   ]
  },
  {
   "cell_type": "markdown",
   "metadata": {},
   "source": [
    "Define what I am installing: only images!"
   ]
  },
  {
   "cell_type": "code",
   "execution_count": 2,
   "metadata": {},
   "outputs": [],
   "source": [
    "L = Instaloader(sleep=True, quiet=True, user_agent=None, dirname_pattern=None, filename_pattern=None,\n",
    "                download_pictures=True, download_videos=False, download_video_thumbnails=False, \n",
    "                download_geotags=False, download_comments=False, save_metadata=False, compress_json=False, \n",
    "                post_metadata_txt_pattern=None,storyitem_metadata_txt_pattern=None, max_connection_attempts=3, \n",
    "                commit_mode=False)"
   ]
  },
  {
   "cell_type": "markdown",
   "metadata": {},
   "source": [
    "### Loop through the studios\n",
    "Tag each image with the caption_mention"
   ]
  },
  {
   "cell_type": "code",
   "execution_count": 3,
   "metadata": {},
   "outputs": [],
   "source": [
    "STUDIO_HANDLES = ['studioartease','tatouage_dfa_tattoos','minuitdix_tattoo',\n",
    "          'paradise.montreal','lovelesstattoo','tattooabyss',\n",
    "          'tatouageroyal','lechalettattoo','tattoostudio1974','sgtattoondg']"
   ]
  },
  {
   "cell_type": "code",
   "execution_count": 4,
   "metadata": {},
   "outputs": [],
   "source": [
    "datadir = '/Users/brynronalds/Insight/directory/data/raw/'\n",
    "image_df = pd.DataFrame(columns=['filename','artist handle','studio handle'])\n",
    "i = 0\n",
    "\n",
    "for sthandle in STUDIO_HANDLES:\n",
    "    # going through each studio instagram page:\n",
    "    profile = Profile.from_username(L.context, sthandle)\n",
    "    for post in islice(profile.get_posts(), 1000):\n",
    "        str1 = \"\"\n",
    "        mentions_list = post.caption_mentions # get the handles mentioned in caption [list]\n",
    "        mentions_str = str1.join(mentions_list) # transform list to string\n",
    "        if len(mentions_list) == 1: \n",
    "            # if there is a single mention then we want the post, and the handle mentioned (artist)\n",
    "            try:\n",
    "                L.download_post(post, profile.username)\n",
    "                filename = profile.username + '/' + L.format_filename(post, target=profile.username) + '.jpg'\n",
    "            \n",
    "                # add the info to the dataframe:\n",
    "                values_to_add = {'filename': filename, 'artist handle': mentions_str, 'studio handle': sthandle}\n",
    "                row_to_add = pd.Series(values_to_add, name=i)\n",
    "                image_df = image_df.append(row_to_add)\n",
    "                i += 1\n",
    "            except Exception as e:\n",
    "                pass\n",
    "    \n",
    "    # once all posts downloaded, move folder to data directory\n",
    "    folder = os.path.join(os.getcwd(),sthandle)\n",
    "    shutil.move(folder,datadir)\n",
    "    "
   ]
  },
  {
   "cell_type": "code",
   "execution_count": 5,
   "metadata": {},
   "outputs": [],
   "source": [
    "csv_name = os.path.join(datadir,'all_images.csv')\n",
    "image_df.to_csv(csv_name)"
   ]
  },
  {
   "cell_type": "code",
   "execution_count": 6,
   "metadata": {},
   "outputs": [],
   "source": [
    "# ### Single studio for debugging:\n",
    "# tattoo_df = pd.DataFrame(columns=['filename','artist handle','studio handle'])\n",
    "# i = 0\n",
    "# profile = Profile.from_username(L.context, 'slickstyledsteel')\n",
    "# for post in islice(profile.get_posts(), 20):\n",
    "#     str1 = \"\"\n",
    "#     mentions_list = post.caption_mentions\n",
    "#     mentions_str = str1.join(mentions_list)\n",
    "#     if len(mentions_list) == 1:\n",
    "#         post_info = L.download_post(post, profile.username)\n",
    "#         filename = profile.username + '/' + L.format_filename(post, target=profile.username) + '.jpg'\n",
    "#         values_to_add = {'filename': filename, 'artist handle': mentions_str, 'studio handle': 'slickstyledsteel'}\n",
    "#         row_to_add = pd.Series(values_to_add, name=i)\n",
    "#         tattoo_df = tattoo_df.append(row_to_add)\n",
    "#         i += 1\n",
    "        \n",
    "# tattoo_df"
   ]
  },
  {
   "cell_type": "code",
   "execution_count": null,
   "metadata": {},
   "outputs": [],
   "source": []
  }
 ],
 "metadata": {
  "kernelspec": {
   "display_name": "Python 3",
   "language": "python",
   "name": "python3"
  },
  "language_info": {
   "codemirror_mode": {
    "name": "ipython",
    "version": 3
   },
   "file_extension": ".py",
   "mimetype": "text/x-python",
   "name": "python",
   "nbconvert_exporter": "python",
   "pygments_lexer": "ipython3",
   "version": "3.7.6"
  }
 },
 "nbformat": 4,
 "nbformat_minor": 4
}
