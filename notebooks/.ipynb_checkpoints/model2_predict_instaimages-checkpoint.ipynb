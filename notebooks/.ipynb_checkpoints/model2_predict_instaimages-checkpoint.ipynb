{
 "cells": [
  {
   "cell_type": "markdown",
   "metadata": {},
   "source": [
    "### Using the CNN model on database images"
   ]
  },
  {
   "cell_type": "code",
   "execution_count": 1,
   "metadata": {},
   "outputs": [],
   "source": [
    "import tensorflow as tf\n",
    "import numpy as np\n",
    "import pandas as pd\n",
    "import cv2\n",
    "import os"
   ]
  },
  {
   "cell_type": "code",
   "execution_count": 2,
   "metadata": {},
   "outputs": [],
   "source": [
    "DATADIR = '/Users/brynronalds/Insight/directory/data/raw/'\n",
    "\n",
    "csv_name = os.path.join(DATADIR,'all_images.csv')\n",
    "image_df = pd.read_csv(csv_name)\n",
    "# clean the dataframe, there's an extra ID column\n",
    "col_names = image_df.columns\n",
    "image_df = image_df.drop([col_names[0]], axis=1)\n",
    "\n",
    "# load the highest performing keras model:\n",
    "# loss: 0.0796 - accuracy: 0.9728 - val_loss: 0.1647 - val_accuracy: 0.9383\n",
    "model = tf.keras.models.load_model('CNN_12epoch_64x3_EarlyStop3')"
   ]
  },
  {
   "cell_type": "code",
   "execution_count": 3,
   "metadata": {},
   "outputs": [],
   "source": [
    "STUDIO_HANDLES = ['studioartease','tatouage_dfa_tattoos','minuitdix_tattoo',\n",
    "          'paradise.montreal','lovelesstattoo','tattooabyss',\n",
    "          'tatouageroyal','lechalettattoo','tattoostudio1974','sgtattoondg']\n",
    "STUDIO_NAMES = ['Studio Artease',' DFA Tattoos','Minuit Dix','Paradise',\n",
    "               'Loveless','Tattoo Abyss','Tatouage Royal','Le Chalet','Tattoo 1974',\n",
    "               'Saving Grace Tattoo']"
   ]
  },
  {
   "cell_type": "code",
   "execution_count": 4,
   "metadata": {},
   "outputs": [],
   "source": [
    "# clean up: replace filename for any that don't work (multiple images in post)\n",
    "replace_name = {}\n",
    "for index in image_df.index:\n",
    "    img_name = image_df.loc[index,'filename']\n",
    "    img_array = cv2.imread(os.path.join(DATADIR,img_name))\n",
    "    try:\n",
    "        new_array = cv2.resize(img_array, (IMG_SIZE, IMG_SIZE))\n",
    "    except:\n",
    "        new_name = img_name[:-4] + '_1.jpg'\n",
    "        replace_name[img_name] = new_name\n",
    "        continue\n",
    "image_df = image_df.replace(replace_name)    "
   ]
  },
  {
   "cell_type": "code",
   "execution_count": 5,
   "metadata": {},
   "outputs": [],
   "source": [
    "# Load in images and get model predictions/add to dataframe\n",
    "image_df['studio name'] = ''\n",
    "image_df['prediction'] = ''\n",
    "image_df['is_tat'] = ''\n",
    "IMG_SIZE = 200\n",
    "broken_id = []\n",
    "col_names = image_df.columns\n",
    "i = 0\n",
    "for studio in STUDIO_HANDLES:\n",
    "    studio_name = STUDIO_NAMES[i]\n",
    "    df_st = image_df[image_df[col_names[2]] == studio]\n",
    "    for index in df_st.index:\n",
    "        img_name = df_st.loc[index,'filename']\n",
    "        img_array = cv2.imread(os.path.join(DATADIR,img_name))\n",
    "        try:\n",
    "            new_array = cv2.resize(img_array, (IMG_SIZE, IMG_SIZE))\n",
    "        except:\n",
    "            broken_id.append(index)\n",
    "            continue\n",
    "        data = np.array(new_array).reshape(-1, IMG_SIZE, IMG_SIZE, 3)\n",
    "        data = data/255.0\n",
    "        pred = model.predict(data)\n",
    "        predval = float(pred)\n",
    "        image_df.loc[index,'prediction'] = predval\n",
    "        # set is_tat threshold: note that the model is uber sensitive \n",
    "        # **model prediction weighted to non-tat, especially if 2 tattoos in image\n",
    "        if predval > 0.001:\n",
    "            image_df.loc[index,'is_tat'] = 1\n",
    "        else:\n",
    "            image_df.loc[index,'is_tat'] = 0\n",
    "        image_df.loc[index,'studio name'] = studio_name\n",
    "    i += 1\n",
    "        \n",
    "\n",
    "# Had some posts that only downloaded text, no jpg: delete these\n",
    "image_df = image_df.drop(broken_id, axis=0)"
   ]
  },
  {
   "cell_type": "code",
   "execution_count": 6,
   "metadata": {},
   "outputs": [],
   "source": [
    "# Need to create a csv file of the tattoo images:\n",
    "tattoo_df = image_df[image_df['is_tat'] == 1]\n",
    "\n",
    "tattoo_df.to_csv(os.path.join(DATADIR,'tattoo_images.csv'))\n",
    "image_df.to_csv(os.path.join(DATADIR,'all_images_cl.csv'))"
   ]
  },
  {
   "cell_type": "code",
   "execution_count": null,
   "metadata": {},
   "outputs": [],
   "source": []
  }
 ],
 "metadata": {
  "kernelspec": {
   "display_name": "Python 3",
   "language": "python",
   "name": "python3"
  },
  "language_info": {
   "codemirror_mode": {
    "name": "ipython",
    "version": 3
   },
   "file_extension": ".py",
   "mimetype": "text/x-python",
   "name": "python",
   "nbconvert_exporter": "python",
   "pygments_lexer": "ipython3",
   "version": "3.7.6"
  }
 },
 "nbformat": 4,
 "nbformat_minor": 4
}
