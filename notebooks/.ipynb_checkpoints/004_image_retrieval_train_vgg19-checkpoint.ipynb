{
 "cells": [
  {
   "cell_type": "markdown",
   "metadata": {},
   "source": [
    "ADAPTED: Bryn Ronalds, Insight 20B DS TO\n",
    "\"\"\"\n",
    "\n",
    " image_retrieval.py  (author: Anson Wong / git: ankonzoid)\n",
    "\n",
    " We perform image retrieval using transfer learning on a pre-trained\n",
    " VGG image classifier, and use Nearest Neighbours to find similar images.\n",
    "\n",
    "\"\"\""
   ]
  },
  {
   "cell_type": "code",
   "execution_count": 1,
   "metadata": {},
   "outputs": [],
   "source": [
    "import os\n",
    "import numpy as np\n",
    "import tensorflow as tf\n",
    "import skimage.io\n",
    "from skimage.transform import resize\n",
    "from multiprocessing import Pool\n",
    "from pickle import dump\n",
    "from src.CV_transform_utils import apply_transformer, resize_img, normalize_img\n",
    "from src.CV_plot_utils import plot_query_retrieval\n",
    "from sklearn.neighbors import NearestNeighbors"
   ]
  },
  {
   "cell_type": "code",
   "execution_count": 2,
   "metadata": {},
   "outputs": [],
   "source": [
    "# Make paths\n",
    "proj_dir = '/Users/brynronalds/Insight/proj_dir/'\n",
    "train_dir = os.path.join(proj_dir,'data/processed/Inklusive_database/train')\n",
    "clean_dir = os.path.join(proj_dir,'data/cleaned')\n"
   ]
  },
  {
   "cell_type": "code",
   "execution_count": 3,
   "metadata": {},
   "outputs": [],
   "source": [
    "# Read images\n",
    "def read_img(filePath):\n",
    "    image = skimage.io.imread(filePath, as_gray=False)\n",
    "    return image\n",
    "\n",
    "def read_imgs_dir(dirPath, extensions, parallel=True):\n",
    "    args = [os.path.join(dirPath, filename)\n",
    "            for filename in os.listdir(dirPath)\n",
    "            if any(filename.lower().endswith(ext) for ext in extensions)]\n",
    "    if parallel:\n",
    "        pool = Pool()\n",
    "        imgs = pool.map(read_img, args)\n",
    "        pool.close()\n",
    "        pool.join()\n",
    "    else:\n",
    "        imgs = [read_img(arg) for arg in args]\n",
    "    return imgs, args\n",
    "parallel = True\n",
    "extensions = [\".jpg\", \".jpeg\"]\n",
    "imgs_train, filenames_train = read_imgs_dir(train_dir, extensions, parallel=parallel)"
   ]
  },
  {
   "cell_type": "code",
   "execution_count": 4,
   "metadata": {},
   "outputs": [],
   "source": [
    "tr_img = os.path.join(clean_dir,'train_images.pkl')\n",
    "tr_fln = os.path.join(clean_dir,'train_filenames.pkl')\n",
    "dump(imgs_train, open(tr_img, 'wb'))\n",
    "dump(filenames_train, open(tr_fln, 'wb'))\n",
    "\n",
    "del tr_img, tr_fln, filenames_train"
   ]
  },
  {
   "cell_type": "code",
   "execution_count": 5,
   "metadata": {},
   "outputs": [],
   "source": [
    "# Load pre-trained VGG19 model + higher level layers\n",
    "IMG_SIZE = 256\n",
    "shape_img_resize = (IMG_SIZE, IMG_SIZE, 3)\n",
    "model = tf.keras.applications.VGG19(weights='imagenet', include_top=False,\n",
    "                                        input_shape=shape_img_resize)\n",
    "#model.summary()\n",
    "output_shape_model = tuple([int(x) for x in model.output.shape[1:]])"
   ]
  },
  {
   "cell_type": "code",
   "execution_count": 6,
   "metadata": {},
   "outputs": [],
   "source": [
    "# Apply transformations to all images\n",
    "class ImageTransformer(object):\n",
    "\n",
    "    def __init__(self, shape_resize):\n",
    "        self.shape_resize = shape_resize\n",
    "\n",
    "    def __call__(self, img):\n",
    "        img_transformed = resize_img(img, self.shape_resize)\n",
    "        img_transformed = normalize_img(img_transformed)\n",
    "        return img_transformed\n",
    "\n",
    "transformer = ImageTransformer(shape_img_resize)\n",
    "imgs_train_transformed = apply_transformer(imgs_train, transformer, parallel=parallel)\n",
    "X_train = np.array(imgs_train_transformed).reshape((-1,) + shape_img_resize)"
   ]
  },
  {
   "cell_type": "code",
   "execution_count": 7,
   "metadata": {},
   "outputs": [],
   "source": [
    "# Delete unnecessary variables!\n",
    "del imgs_train, transformer, imgs_train_transformed"
   ]
  },
  {
   "cell_type": "code",
   "execution_count": 8,
   "metadata": {},
   "outputs": [],
   "source": [
    "# Create embeddings using model\n",
    "E_train = model.predict(X_train)\n",
    "E_train_flatten = E_train.reshape((-1, np.prod(output_shape_model)))\n",
    "# print(\" -> E_train.shape = {}\".format(E_train.shape))\n",
    "# print(\" -> E_train_flatten.shape = {}\".format(E_train_flatten.shape))"
   ]
  },
  {
   "cell_type": "code",
   "execution_count": 9,
   "metadata": {},
   "outputs": [
    {
     "ename": "NameError",
     "evalue": "name 'tr_img' is not defined",
     "output_type": "error",
     "traceback": [
      "\u001b[0;31m---------------------------------------------------------------------------\u001b[0m",
      "\u001b[0;31mNameError\u001b[0m                                 Traceback (most recent call last)",
      "\u001b[0;32m<ipython-input-9-6811025cb2b3>\u001b[0m in \u001b[0;36m<module>\u001b[0;34m\u001b[0m\n\u001b[1;32m      2\u001b[0m \u001b[0mdump\u001b[0m\u001b[0;34m(\u001b[0m\u001b[0mE_train_flatten\u001b[0m\u001b[0;34m,\u001b[0m \u001b[0mopen\u001b[0m\u001b[0;34m(\u001b[0m\u001b[0mpreds\u001b[0m\u001b[0;34m,\u001b[0m \u001b[0;34m\"wb\"\u001b[0m\u001b[0;34m)\u001b[0m\u001b[0;34m)\u001b[0m\u001b[0;34m\u001b[0m\u001b[0;34m\u001b[0m\u001b[0m\n\u001b[1;32m      3\u001b[0m \u001b[0;34m\u001b[0m\u001b[0m\n\u001b[0;32m----> 4\u001b[0;31m \u001b[0;32mdel\u001b[0m \u001b[0mE_train\u001b[0m\u001b[0;34m,\u001b[0m \u001b[0mX_train\u001b[0m\u001b[0;34m,\u001b[0m \u001b[0mpreds\u001b[0m\u001b[0;34m,\u001b[0m \u001b[0mtr_img\u001b[0m\u001b[0;34m,\u001b[0m \u001b[0mtr_fln\u001b[0m\u001b[0;34m\u001b[0m\u001b[0;34m\u001b[0m\u001b[0m\n\u001b[0m",
      "\u001b[0;31mNameError\u001b[0m: name 'tr_img' is not defined"
     ]
    }
   ],
   "source": [
    "preds = os.path.join(clean_dir,\"E_train_flatten.pkl\")\n",
    "dump(E_train_flatten, open(preds, \"wb\"))\n",
    "\n",
    "del E_train, X_train, preds"
   ]
  },
  {
   "cell_type": "code",
   "execution_count": 14,
   "metadata": {},
   "outputs": [
    {
     "name": "stdout",
     "output_type": "stream",
     "text": [
      "Fitting k-nearest-neighbour model on training images...\n"
     ]
    },
    {
     "data": {
      "text/plain": [
       "NearestNeighbors(metric='cosine')"
      ]
     },
     "execution_count": 14,
     "metadata": {},
     "output_type": "execute_result"
    }
   ],
   "source": [
    "# Fit kNN model on training images\n",
    "print(\"Fitting k-nearest-neighbour model on training images...\")\n",
    "knn = NearestNeighbors(n_neighbors=5, metric=\"cosine\")\n",
    "knn.fit(E_train_flatten)"
   ]
  },
  {
   "cell_type": "code",
   "execution_count": 15,
   "metadata": {},
   "outputs": [],
   "source": [
    "filename = os.path.join(proj_dir,'models/finalized_knn5_model.sav')\n",
    "dump(knn, open(filename, 'wb'))"
   ]
  },
  {
   "cell_type": "code",
   "execution_count": null,
   "metadata": {},
   "outputs": [],
   "source": []
  }
 ],
 "metadata": {
  "kernelspec": {
   "display_name": "Python 3",
   "language": "python",
   "name": "python3"
  },
  "language_info": {
   "codemirror_mode": {
    "name": "ipython",
    "version": 3
   },
   "file_extension": ".py",
   "mimetype": "text/x-python",
   "name": "python",
   "nbconvert_exporter": "python",
   "pygments_lexer": "ipython3",
   "version": "3.7.6"
  }
 },
 "nbformat": 4,
 "nbformat_minor": 4
}
