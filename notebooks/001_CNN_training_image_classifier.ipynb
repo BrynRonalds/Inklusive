{
 "cells": [
  {
   "cell_type": "markdown",
   "metadata": {},
   "source": [
    "### Image classifier using CNN"
   ]
  },
  {
   "cell_type": "code",
   "execution_count": 1,
   "metadata": {},
   "outputs": [],
   "source": [
    "import tensorflow as tf\n",
    "from tensorflow.keras.models import Sequential\n",
    "from tensorflow.keras.layers import Dense, Dropout, Activation, Flatten, Conv2D, MaxPooling2D\n",
    "import pickle\n",
    "import numpy as np"
   ]
  },
  {
   "cell_type": "code",
   "execution_count": 2,
   "metadata": {},
   "outputs": [],
   "source": [
    "# Load the training set\n",
    "X = pickle.load(open(\"X.pickle\", \"rb\")) #features\n",
    "y = pickle.load(open(\"y.pickle\", \"rb\")) # labels"
   ]
  },
  {
   "cell_type": "code",
   "execution_count": 3,
   "metadata": {},
   "outputs": [],
   "source": [
    "# Normalize the data: min is 0 and max is 255 for pixel data\n",
    "X = X/255.0\n",
    "y = np.array(y)"
   ]
  },
  {
   "cell_type": "code",
   "execution_count": 4,
   "metadata": {
    "scrolled": true
   },
   "outputs": [
    {
     "name": "stdout",
     "output_type": "stream",
     "text": [
      "Epoch 1/10\n",
      "130/130 [==============================] - 239s 2s/step - loss: 0.6274 - accuracy: 0.7217 - val_loss: 0.5091 - val_accuracy: 0.7315\n",
      "Epoch 2/10\n",
      "130/130 [==============================] - 239s 2s/step - loss: 0.3677 - accuracy: 0.8342 - val_loss: 0.3220 - val_accuracy: 0.8467\n",
      "Epoch 3/10\n",
      "130/130 [==============================] - 223s 2s/step - loss: 0.2476 - accuracy: 0.8957 - val_loss: 0.3676 - val_accuracy: 0.8348\n",
      "Epoch 4/10\n",
      "130/130 [==============================] - 219s 2s/step - loss: 0.1722 - accuracy: 0.9296 - val_loss: 0.3174 - val_accuracy: 0.8761\n",
      "Epoch 5/10\n",
      "130/130 [==============================] - 219s 2s/step - loss: 0.1138 - accuracy: 0.9539 - val_loss: 0.3388 - val_accuracy: 0.8707\n",
      "Epoch 6/10\n",
      "130/130 [==============================] - 220s 2s/step - loss: 0.0677 - accuracy: 0.9781 - val_loss: 0.3738 - val_accuracy: 0.8804\n",
      "Epoch 7/10\n",
      "130/130 [==============================] - 219s 2s/step - loss: 0.0337 - accuracy: 0.9895 - val_loss: 0.3530 - val_accuracy: 0.8935\n",
      "Epoch 8/10\n",
      "130/130 [==============================] - 267s 2s/step - loss: 0.0344 - accuracy: 0.9878 - val_loss: 0.4791 - val_accuracy: 0.8652\n"
     ]
    }
   ],
   "source": [
    "# Define the model layers:\n",
    "model = Sequential()\n",
    "\n",
    "model.add(Conv2D(64, (3,3), input_shape = X.shape[1:]))\n",
    "model.add(Activation(\"relu\"))\n",
    "model.add(MaxPooling2D(pool_size=(2,2)))\n",
    "\n",
    "model.add(Conv2D(64, (3,3)))\n",
    "model.add(Activation(\"relu\"))\n",
    "model.add(MaxPooling2D(pool_size=(2,2)))\n",
    "\n",
    "model.add(Flatten())\n",
    "\n",
    "model.add(Dense(64))\n",
    "model.add(Activation(\"relu\"))\n",
    "\n",
    "model.add(Dense(1))\n",
    "model.add(Activation(\"sigmoid\"))\n",
    "\n",
    "model.compile(loss=\"binary_crossentropy\",\n",
    "             optimizer=\"adam\",\n",
    "             metrics=[\"accuracy\"])\n",
    "\n",
    "\n",
    "# If the val_loss starts going back up, after 4 times in a row stop and go back to \"best weights\"\n",
    "early_stop = tf.keras.callbacks.EarlyStopping(monitor='val_loss', min_delta=0, \n",
    "                                              patience=4, verbose=0, mode='auto',\n",
    "                                              baseline=None, restore_best_weights=True)\n",
    "# Fit #1: with 10% of images used as validation\n",
    "model.fit(X, y, batch_size=64, epochs=10, validation_split=0.1, callbacks=[early_stop])\n",
    "\n"
   ]
  },
  {
   "cell_type": "code",
   "execution_count": 5,
   "metadata": {},
   "outputs": [
    {
     "name": "stdout",
     "output_type": "stream",
     "text": [
      "WARNING:tensorflow:From /Users/brynronalds/anaconda3/lib/python3.7/site-packages/tensorflow/python/ops/resource_variable_ops.py:1817: calling BaseResourceVariable.__init__ (from tensorflow.python.ops.resource_variable_ops) with constraint is deprecated and will be removed in a future version.\n",
      "Instructions for updating:\n",
      "If using Keras pass *_constraint arguments to layers.\n",
      "INFO:tensorflow:Assets written to: CNN_64x3_EarlyStop/assets\n"
     ]
    }
   ],
   "source": [
    "model.save('CNN_64x3_EarlyStop')"
   ]
  },
  {
   "cell_type": "code",
   "execution_count": 6,
   "metadata": {},
   "outputs": [
    {
     "name": "stdout",
     "output_type": "stream",
     "text": [
      "Epoch 1/8\n",
      "101/101 [==============================] - 208s 2s/step - loss: 0.1172 - accuracy: 0.9548 - val_loss: 0.1747 - val_accuracy: 0.9322\n",
      "Epoch 2/8\n",
      "101/101 [==============================] - 198s 2s/step - loss: 0.0672 - accuracy: 0.9770 - val_loss: 0.1895 - val_accuracy: 0.9286\n",
      "Epoch 3/8\n",
      "101/101 [==============================] - 193s 2s/step - loss: 0.0440 - accuracy: 0.9849 - val_loss: 0.2125 - val_accuracy: 0.9257\n",
      "INFO:tensorflow:Assets written to: CNN_64x3_EarlyStop2/assets\n"
     ]
    }
   ],
   "source": [
    "# Model fit #2: (patience now 2 epochs in a row, valid split 30%)\n",
    "early_stop = tf.keras.callbacks.EarlyStopping(monitor='val_loss', min_delta=0, \n",
    "                                              patience=2, verbose=0, mode='auto',\n",
    "                                              baseline=None, restore_best_weights=True)\n",
    "model.fit(X, y, batch_size=64, epochs=8, validation_split=0.3, callbacks=[early_stop])\n",
    "model.save('CNN_64x3_EarlyStop2')\n"
   ]
  },
  {
   "cell_type": "code",
   "execution_count": 7,
   "metadata": {},
   "outputs": [
    {
     "name": "stdout",
     "output_type": "stream",
     "text": [
      "Epoch 1/5\n",
      "87/87 [==============================] - 191s 2s/step - loss: 0.0796 - accuracy: 0.9728 - val_loss: 0.1647 - val_accuracy: 0.9383\n",
      "Epoch 2/5\n",
      "87/87 [==============================] - 176s 2s/step - loss: 0.0469 - accuracy: 0.9841 - val_loss: 0.3084 - val_accuracy: 0.8932\n",
      "INFO:tensorflow:Assets written to: CNN_64x3_EarlyStop3/assets\n"
     ]
    }
   ],
   "source": [
    "early_stop = tf.keras.callbacks.EarlyStopping(monitor='val_loss', min_delta=0, \n",
    "                                              patience=1, verbose=0, mode='auto',\n",
    "                                              baseline=None, restore_best_weights=True)\n",
    "model.fit(X, y, batch_size=64, epochs=5, validation_split=0.4, callbacks=[early_stop])\n",
    "model.save('CNN_64x3_EarlyStop3')"
   ]
  },
  {
   "cell_type": "code",
   "execution_count": null,
   "metadata": {},
   "outputs": [],
   "source": []
  }
 ],
 "metadata": {
  "kernelspec": {
   "display_name": "Python 3",
   "language": "python",
   "name": "python3"
  },
  "language_info": {
   "codemirror_mode": {
    "name": "ipython",
    "version": 3
   },
   "file_extension": ".py",
   "mimetype": "text/x-python",
   "name": "python",
   "nbconvert_exporter": "python",
   "pygments_lexer": "ipython3",
   "version": "3.7.6"
  }
 },
 "nbformat": 4,
 "nbformat_minor": 4
}
