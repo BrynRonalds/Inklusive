{
 "cells": [
  {
   "cell_type": "markdown",
   "metadata": {},
   "source": [
    "ADAPTED: Bryn Ronalds, Insight 20B DS TO\n",
    "\"\"\"\n",
    "\n",
    " image_retrieval.py  (author: Anson Wong / git: ankonzoid)\n",
    "\n",
    " We perform image retrieval using transfer learning on a pre-trained\n",
    " VGG image classifier. We plot the k=5 most similar images to our\n",
    " query images, as well as the t-SNE visualizations.\n",
    "\n",
    "\"\"\""
   ]
  },
  {
   "cell_type": "code",
   "execution_count": 1,
   "metadata": {},
   "outputs": [
    {
     "name": "stderr",
     "output_type": "stream",
     "text": [
      "\n",
      "Bad key \"text.kerning_factor\" on line 4 in\n",
      "/Users/brynronalds/anaconda3/lib/python3.7/site-packages/matplotlib/mpl-data/stylelib/_classic_test_patch.mplstyle.\n",
      "You probably need to get an updated matplotlibrc file from\n",
      "https://github.com/matplotlib/matplotlib/blob/v3.1.3/matplotlibrc.template\n",
      "or from the matplotlib source distribution\n"
     ]
    }
   ],
   "source": [
    "import os\n",
    "import numpy as np\n",
    "import tensorflow as tf\n",
    "from sklearn.neighbors import NearestNeighbors\n",
    "import skimage.io\n",
    "from skimage.transform import resize\n",
    "from multiprocessing import Pool\n",
    "from CV_transform_utils import apply_transformer, resize_img, normalize_img\n",
    "from CV_plot_utils import plot_query_retrieval\n",
    "from pickle import dump"
   ]
  },
  {
   "cell_type": "code",
   "execution_count": 2,
   "metadata": {},
   "outputs": [],
   "source": [
    "# Run mode: transfer learning -> vgg19\n",
    "modelName = \"vgg19\" \n",
    "trainModel = True\n",
    "parallel = True  # use multicore processing"
   ]
  },
  {
   "cell_type": "code",
   "execution_count": 3,
   "metadata": {},
   "outputs": [],
   "source": [
    "# Make paths\n",
    "PROJDIR = '/Users/brynronalds/Insight/proj_dir/'\n",
    "TATDIR = os.path.join(PROJDIR,'data/processed/Inklusive_database/train')\n",
    "TESTDIR = os.path.join(PROJDIR,'data/processed/Inklusive_database/test')\n",
    "OUTDIR = os.path.join(PROJDIR,'data/processed/Inklusive_database/output')\n",
    "\n",
    "dataTrainDir = TATDIR #os.path.join(os.getcwd(), \"data\", \"train\")\n",
    "dataTestDir = TESTDIR #os.path.join(os.getcwd(), \"data\", \"test\")\n",
    "outDir = OUTDIR"
   ]
  },
  {
   "cell_type": "code",
   "execution_count": 4,
   "metadata": {},
   "outputs": [],
   "source": [
    "# Read images\n",
    "def read_img(filePath):\n",
    "    image = skimage.io.imread(filePath, as_gray=False)\n",
    "    return image\n",
    "\n",
    "def read_imgs_dir(dirPath, extensions, parallel=True):\n",
    "    args = [os.path.join(dirPath, filename)\n",
    "            for filename in os.listdir(dirPath)\n",
    "            if any(filename.lower().endswith(ext) for ext in extensions)]\n",
    "    if parallel:\n",
    "        pool = Pool()\n",
    "        imgs = pool.map(read_img, args)\n",
    "        pool.close()\n",
    "        pool.join()\n",
    "    else:\n",
    "        imgs = [read_img(arg) for arg in args]\n",
    "    return imgs, args\n",
    "\n",
    "extensions = [\".jpg\", \".jpeg\"]\n",
    "imgs_train, filenames_train = read_imgs_dir(dataTrainDir, extensions, parallel=parallel)\n",
    "imgs_test, filenames_test = read_imgs_dir(dataTestDir, extensions, parallel=parallel)"
   ]
  },
  {
   "cell_type": "code",
   "execution_count": 5,
   "metadata": {},
   "outputs": [
    {
     "name": "stdout",
     "output_type": "stream",
     "text": [
      "input_shape_model = (256, 256, 3)\n",
      "output_shape_model = (8, 8, 512)\n"
     ]
    }
   ],
   "source": [
    "# Load pre-trained VGG19 model + higher level layers\n",
    "IMG_SIZE = 256\n",
    "shape_img = (IMG_SIZE, IMG_SIZE, 3)\n",
    "model = tf.keras.applications.VGG19(weights='imagenet', include_top=False,\n",
    "                                        input_shape=shape_img)\n",
    "#model.summary()\n",
    "shape_img_resize = tuple([int(x) for x in model.input.shape[1:]])\n",
    "input_shape_model = tuple([int(x) for x in model.input.shape[1:]])\n",
    "output_shape_model = tuple([int(x) for x in model.output.shape[1:]])\n",
    "n_epochs = None\n",
    "\n",
    "# Print some model info\n",
    "print(\"input_shape_model = {}\".format(input_shape_model))\n",
    "print(\"output_shape_model = {}\".format(output_shape_model))"
   ]
  },
  {
   "cell_type": "code",
   "execution_count": 6,
   "metadata": {},
   "outputs": [
    {
     "name": "stdout",
     "output_type": "stream",
     "text": [
      "Applying image transformer to training images...\n",
      "Applying image transformer to test images...\n"
     ]
    }
   ],
   "source": [
    "# Apply transformations to all images\n",
    "class ImageTransformer(object):\n",
    "\n",
    "    def __init__(self, shape_resize):\n",
    "        self.shape_resize = shape_resize\n",
    "\n",
    "    def __call__(self, img):\n",
    "        img_transformed = resize_img(img, self.shape_resize)\n",
    "        img_transformed = normalize_img(img_transformed)\n",
    "        return img_transformed\n",
    "\n",
    "transformer = ImageTransformer(shape_img_resize)\n",
    "print(\"Applying image transformer to training images...\")\n",
    "imgs_train_transformed = apply_transformer(imgs_train, transformer, parallel=parallel)\n",
    "print(\"Applying image transformer to test images...\")\n",
    "imgs_test_transformed = apply_transformer(imgs_test, transformer, parallel=parallel)"
   ]
  },
  {
   "cell_type": "code",
   "execution_count": 7,
   "metadata": {},
   "outputs": [
    {
     "name": "stdout",
     "output_type": "stream",
     "text": [
      " -> X_train.shape = (6703, 256, 256, 3)\n",
      " -> X_test.shape = (6, 256, 256, 3)\n"
     ]
    }
   ],
   "source": [
    "# Convert images to numpy array\n",
    "X_train = np.array(imgs_train_transformed).reshape((-1,) + input_shape_model)\n",
    "X_test = np.array(imgs_test_transformed).reshape((-1,) + input_shape_model)\n",
    "print(\" -> X_train.shape = {}\".format(X_train.shape))\n",
    "print(\" -> X_test.shape = {}\".format(X_test.shape))"
   ]
  },
  {
   "cell_type": "code",
   "execution_count": 8,
   "metadata": {},
   "outputs": [
    {
     "name": "stdout",
     "output_type": "stream",
     "text": [
      "Inferencing embeddings using pre-trained model...\n",
      " -> E_train.shape = (6703, 8, 8, 512)\n",
      " -> E_test.shape = (6, 8, 8, 512)\n",
      " -> E_train_flatten.shape = (6703, 32768)\n",
      " -> E_test_flatten.shape = (6, 32768)\n"
     ]
    }
   ],
   "source": [
    "# Create embeddings using model\n",
    "print(\"Inferencing embeddings using pre-trained model...\")\n",
    "E_train = model.predict(X_train)\n",
    "E_train_flatten = E_train.reshape((-1, np.prod(output_shape_model)))\n",
    "E_test = model.predict(X_test)\n",
    "E_test_flatten = E_test.reshape((-1, np.prod(output_shape_model)))\n",
    "print(\" -> E_train.shape = {}\".format(E_train.shape))\n",
    "print(\" -> E_test.shape = {}\".format(E_test.shape))\n",
    "print(\" -> E_train_flatten.shape = {}\".format(E_train_flatten.shape))\n",
    "print(\" -> E_test_flatten.shape = {}\".format(E_test_flatten.shape))"
   ]
  },
  {
   "cell_type": "code",
   "execution_count": 9,
   "metadata": {},
   "outputs": [],
   "source": [
    "dump(E_train, open(\"E_train.pkl\", \"wb\"))\n",
    "dump(E_train_flatten, open(\"E_train_flatten.pkl\", \"wb\"))\n",
    "dump(E_train, open(\"E_test.pkl\", \"wb\"))\n",
    "dump(E_train_flatten, open(\"E_test_flatten.pkl\", \"wb\"))"
   ]
  },
  {
   "cell_type": "code",
   "execution_count": 10,
   "metadata": {},
   "outputs": [
    {
     "name": "stdout",
     "output_type": "stream",
     "text": [
      "Fitting k-nearest-neighbour model on training images...\n"
     ]
    },
    {
     "data": {
      "text/plain": [
       "NearestNeighbors(metric='cosine')"
      ]
     },
     "execution_count": 10,
     "metadata": {},
     "output_type": "execute_result"
    }
   ],
   "source": [
    "# Fit kNN model on training images\n",
    "print(\"Fitting k-nearest-neighbour model on training images...\")\n",
    "knn = NearestNeighbors(n_neighbors=5, metric=\"cosine\")\n",
    "knn.fit(E_train_flatten)"
   ]
  },
  {
   "cell_type": "code",
   "execution_count": 12,
   "metadata": {},
   "outputs": [],
   "source": [
    "filename = 'finalized_model.sav'\n",
    "dump(knn, open(filename, 'wb'))"
   ]
  },
  {
   "cell_type": "code",
   "execution_count": 13,
   "metadata": {},
   "outputs": [
    {
     "name": "stdout",
     "output_type": "stream",
     "text": [
      "Performing image retrieval on test images...\n"
     ]
    }
   ],
   "source": [
    "# Perform image retrieval on test images\n",
    "print(\"Performing image retrieval on test images...\")\n",
    "for i, emb_flatten in enumerate(E_test_flatten):\n",
    "    _, indices = knn.kneighbors([emb_flatten]) # find k nearest train neighbours\n",
    "    img_query = imgs_test[i] # query image\n",
    "    imgs_retrieval = [imgs_train[idx] for idx in indices.flatten()] # retrieval images\n",
    "    imgs_path_retrieval = [filenames_train[idx] for idx in indices.flatten()] # retrieve filenames\n",
    "    outFile = os.path.join(outDir, \"{}_retrieval_{}.png\".format(modelName, i))\n",
    "    plot_query_retrieval(img_query, imgs_retrieval, imgs_path_retrieval, outFile)"
   ]
  },
  {
   "cell_type": "code",
   "execution_count": null,
   "metadata": {},
   "outputs": [],
   "source": [
    "# # Plot t-SNE visualization\n",
    "# print(\"Visualizing t-SNE on training images...\")\n",
    "# outFile = os.path.join(outDir, \"{}_tsne.png\".format(modelName))\n",
    "# plot_tsne(E_train_flatten, imgs_train, outFile)"
   ]
  }
 ],
 "metadata": {
  "kernelspec": {
   "display_name": "Python 3",
   "language": "python",
   "name": "python3"
  },
  "language_info": {
   "codemirror_mode": {
    "name": "ipython",
    "version": 3
   },
   "file_extension": ".py",
   "mimetype": "text/x-python",
   "name": "python",
   "nbconvert_exporter": "python",
   "pygments_lexer": "ipython3",
   "version": "3.7.6"
  }
 },
 "nbformat": 4,
 "nbformat_minor": 4
}
